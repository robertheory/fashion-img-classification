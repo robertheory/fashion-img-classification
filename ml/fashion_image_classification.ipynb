{
  "cells": [
    {
      "cell_type": "markdown",
      "id": "FdlVnwrfJNN9",
      "metadata": {
        "id": "FdlVnwrfJNN9"
      },
      "source": [
        "# Fashion Image Classification\n",
        "\n",
        "Trabalho final da disciplina de Engenharia de Sistemas de Software Inteligentes do curso de Engenharia de Software da Pontifícia Universidade Católica do Rio de Janeiro (PUC-Rio).\n",
        "\n",
        "## Descrição do Projeto\n",
        "\n",
        "Este projeto é modelo de Machine Learning para classificação de imagens de moda. O objetivo é permitir que os usuários enviem imagens e recebam de volta a classificação correspondente."
      ]
    },
    {
      "cell_type": "markdown",
      "id": "FSI3uYAJJ61G",
      "metadata": {
        "id": "FSI3uYAJJ61G"
      },
      "source": [
        "### Etapa 1: Importação das bibliotecas necessárias"
      ]
    },
    {
      "cell_type": "code",
      "execution_count": null,
      "id": "1c196cee",
      "metadata": {
        "id": "1c196cee"
      },
      "outputs": [],
      "source": [
        "# configuração para não exibir os warnings\n",
        "import warnings\n",
        "warnings.filterwarnings(\"ignore\")\n",
        "\n",
        "# Imports necessários\n",
        "import pandas as pd\n",
        "import numpy as np\n",
        "import matplotlib.pyplot as plt\n",
        "\n",
        "from sklearn.preprocessing import StandardScaler\n",
        "from sklearn.preprocessing import MinMaxScaler\n",
        "from sklearn.model_selection import train_test_split\n",
        "from sklearn.model_selection import StratifiedKFold\n",
        "from sklearn.model_selection import cross_val_score\n",
        "from sklearn.model_selection import GridSearchCV\n",
        "from sklearn.metrics import accuracy_score\n",
        "from sklearn.pipeline import Pipeline\n",
        "\n",
        "from sklearn.tree import DecisionTreeClassifier\n",
        "from sklearn.neighbors import KNeighborsClassifier\n",
        "from sklearn.naive_bayes import GaussianNB\n",
        "from sklearn.svm import SVC\n",
        "\n",
        "import pickle\n",
        "\n",
        "from PIL import Image\n",
        "import io\n",
        "\n",
        "import ssl\n",
        "ssl._create_default_https_context = ssl._create_unverified_context"
      ]
    },
    {
      "cell_type": "markdown",
      "id": "ZdbekGhUJ_-l",
      "metadata": {
        "id": "ZdbekGhUJ_-l"
      },
      "source": [
        "### Etapa 2: Carga do Dataset"
      ]
    },
    {
      "cell_type": "markdown",
      "id": "7ec4e68a",
      "metadata": {},
      "source": [
        "#### Dataset de Treinamento"
      ]
    },
    {
      "cell_type": "code",
      "execution_count": null,
      "id": "554ac347",
      "metadata": {
        "colab": {
          "base_uri": "https://localhost:8080/",
          "height": 206
        },
        "id": "554ac347",
        "outputId": "2971a6b6-9fff-4a24-aec2-51c7690bf503"
      },
      "outputs": [],
      "source": [
        "train_url = \"./datasets/train.parquet\"\n",
        "\n",
        "train_dataset = pd.read_parquet(train_url)\n",
        "\n",
        "# dataset muito grande, vamos usar apenas uma amostra de 10.000 linhas\n",
        "train_dataset = train_dataset.sample(n=8000, random_state=42)\n",
        "\n",
        "# Exibe as primeiras linhas do dataset\n",
        "train_dataset.head()"
      ]
    },
    {
      "cell_type": "markdown",
      "id": "24ca3051",
      "metadata": {},
      "source": [
        "#### Dataset de Testes"
      ]
    },
    {
      "cell_type": "code",
      "execution_count": null,
      "id": "156284b9",
      "metadata": {},
      "outputs": [],
      "source": [
        "test_url = \"./datasets/test.parquet\"\n",
        "\n",
        "# já o dataset de teste é menor, vamos usar todas as linhas\n",
        "test_dataset = pd.read_parquet(test_url)\n",
        "\n",
        "# Exibe as primeiras linhas do dataset\n",
        "test_dataset.head()"
      ]
    },
    {
      "cell_type": "markdown",
      "id": "lme_dcZyKG_P",
      "metadata": {
        "id": "lme_dcZyKG_P"
      },
      "source": [
        "### Etapa 3: Separação em Conjuntos (Holdout)"
      ]
    },
    {
      "cell_type": "code",
      "execution_count": null,
      "id": "a2ed0294",
      "metadata": {
        "id": "a2ed0294"
      },
      "outputs": [],
      "source": [
        "test_size = 0.20 # tamanho do conjunto de teste\n",
        "seed = 7 # semente aleatória\n",
        "\n",
        "# Extrai os bytes das imagens e converte para arrays numpy\n",
        "def bytes_to_array(img_bytes):\n",
        "  img = Image.open(io.BytesIO(img_bytes))\n",
        "  img = img.resize((64, 64))  # Redimensiona para 64x64 pixels\n",
        "  return np.array(img).flatten()  # Achata para vetor 1D\n",
        "\n",
        "# Separação dos dados em treino e teste\n",
        "X_train = np.stack(train_dataset['image'].apply(lambda x: bytes_to_array(x['bytes'])))\n",
        "y_train = train_dataset['label'].values\n",
        "\n",
        "X_test = np.stack(test_dataset['image'].apply(lambda x: bytes_to_array(x['bytes'])))\n",
        "y_test = test_dataset['label'].values\n",
        "\n",
        "# Parâmetros e partições da validação cruzada\n",
        "scoring = 'accuracy'\n",
        "num_particoes = 3\n",
        "\n",
        "# Ajusta o número de partições para não exceder o número mínimo de amostras por classe\n",
        "min_samples_per_class = np.min(np.bincount(y_train))\n",
        "num_particoes = min(num_particoes, min_samples_per_class)\n",
        "kfold = StratifiedKFold(n_splits=num_particoes, shuffle=True, random_state=seed) # validação cruzada com estratificação"
      ]
    },
    {
      "cell_type": "markdown",
      "id": "iSOvK1-rKasF",
      "metadata": {
        "id": "iSOvK1-rKasF"
      },
      "source": [
        "### Etapa 4: Criação e avaliação de modelos: linha base"
      ]
    },
    {
      "cell_type": "code",
      "execution_count": null,
      "id": "0d7ad2ac",
      "metadata": {
        "colab": {
          "base_uri": "https://localhost:8080/",
          "height": 947
        },
        "id": "0d7ad2ac",
        "outputId": "bbcd8ceb-3726-486f-fcdb-28f4b25d88cc"
      },
      "outputs": [],
      "source": [
        "np.random.seed(7) # definindo uma semente global\n",
        "\n",
        "# Lista que armazenará os modelos\n",
        "models = []\n",
        "\n",
        "# Criando os modelos e adicionando-os na lista de modelos\n",
        "#models.append(('KNN', KNeighborsClassifier()))\n",
        "#models.append(('CART', DecisionTreeClassifier()))\n",
        "#models.append(('NB', GaussianNB()))\n",
        "models.append(('SVM', SVC()))\n",
        "\n",
        "# Listas para armazenar os resultados\n",
        "results = []\n",
        "names = []\n",
        "\n",
        "# Avaliação dos modelos\n",
        "for name, model in models:\n",
        "    cv_results = cross_val_score(model, X_train, y_train, cv=kfold, scoring=scoring)\n",
        "    results.append(cv_results)\n",
        "    names.append(name)\n",
        "    msg = \"%s: %f (%f)\" % (name, cv_results.mean(), cv_results.std())\n",
        "    print(msg)\n",
        "\n",
        "# Boxplot de comparação dos modelos\n",
        "fig = plt.figure(figsize=(15,10))\n",
        "fig.suptitle('Comparação dos Modelos')\n",
        "ax = fig.add_subplot(111)\n",
        "plt.boxplot(results)\n",
        "ax.set_xticklabels(names)\n",
        "plt.show()"
      ]
    },
    {
      "cell_type": "markdown",
      "id": "fESgfggDKgGR",
      "metadata": {
        "id": "fESgfggDKgGR"
      },
      "source": [
        "### Etapa 5: Criação e avaliação de modelos: dados padronizados e normalizados"
      ]
    },
    {
      "cell_type": "code",
      "execution_count": null,
      "id": "5323f615",
      "metadata": {
        "colab": {
          "base_uri": "https://localhost:8080/",
          "height": 608
        },
        "id": "5323f615",
        "outputId": "07aff17b-7d61-4e71-f00e-a882799a9b2d"
      },
      "outputs": [],
      "source": [
        "np.random.seed(7) # definindo uma semente global para este bloco\n",
        "\n",
        "# Listas para armazenar os armazenar os pipelines e os resultados para todas as visões do dataset\n",
        "pipelines = []\n",
        "results = []\n",
        "names = []\n",
        "\n",
        "# Criando os elementos do pipeline\n",
        "\n",
        "# Algoritmos que serão utilizados\n",
        "#knn = ('KNN', KNeighborsClassifier())\n",
        "#cart = ('CART', DecisionTreeClassifier())\n",
        "#naive_bayes = ('NB', GaussianNB())\n",
        "svm = ('SVM', SVC())\n",
        "\n",
        "# Transformações que serão utilizadas\n",
        "standard_scaler = ('StandardScaler', StandardScaler())\n",
        "min_max_scaler = ('MinMaxScaler', MinMaxScaler())\n",
        "\n",
        "# Montando os pipelines\n",
        "\n",
        "# Dataset original\n",
        "#pipelines.append(('KNN-orig', Pipeline([knn])))\n",
        "#pipelines.append(('CART-orig', Pipeline([cart])))\n",
        "#pipelines.append(('NB-orig', Pipeline([naive_bayes])))\n",
        "pipelines.append(('SVM-orig', Pipeline([svm])))\n",
        "\n",
        "# Dataset Padronizado\n",
        "#pipelines.append(('KNN-padr', Pipeline([standard_scaler, knn])))\n",
        "#pipelines.append(('CART-padr', Pipeline([standard_scaler, cart])))\n",
        "#pipelines.append(('NB-padr', Pipeline([standard_scaler, naive_bayes])))\n",
        "pipelines.append(('SVM-padr', Pipeline([standard_scaler, svm])))\n",
        "\n",
        "# Dataset Normalizado\n",
        "#pipelines.append(('KNN-norm', Pipeline([min_max_scaler, knn])))\n",
        "#pipelines.append(('CART-norm', Pipeline([min_max_scaler, cart])))\n",
        "#pipelines.append(('NB-norm', Pipeline([min_max_scaler, naive_bayes])))\n",
        "pipelines.append(('SVM-norm', Pipeline([min_max_scaler, svm])))\n",
        "\n",
        "# Executando os pipelines\n",
        "for name, model in pipelines:\n",
        "    cv_results = cross_val_score(model, X_train, y_train, cv=kfold, scoring=scoring)\n",
        "    results.append(cv_results)\n",
        "    names.append(name)\n",
        "    msg = \"%s: %.3f (%.3f)\" % (name, cv_results.mean(), cv_results.std()) # formatando para 3 casas decimais\n",
        "    print(msg)\n",
        "\n",
        "# Boxplot de comparação dos modelos\n",
        "fig = plt.figure(figsize=(25,6))\n",
        "fig.suptitle('Comparação dos Modelos - Dataset orginal, padronizado e normalizado')\n",
        "ax = fig.add_subplot(111)\n",
        "plt.boxplot(results)\n",
        "ax.set_xticklabels(names, rotation=90)\n",
        "plt.show()"
      ]
    },
    {
      "cell_type": "markdown",
      "id": "IhvzkKZPKwYq",
      "metadata": {
        "id": "IhvzkKZPKwYq"
      },
      "source": [
        "### Etapa 6: Otimização dos hiperparâmetros"
      ]
    },
    {
      "cell_type": "code",
      "execution_count": 7,
      "id": "12726a31",
      "metadata": {
        "colab": {
          "background_save": true,
          "base_uri": "https://localhost:8080/"
        },
        "id": "12726a31",
        "outputId": "6a9dbb04-19ed-4e47-cf82-e83c983560b8"
      },
      "outputs": [
        {
          "name": "stdout",
          "output_type": "stream",
          "text": [
            "[CV] END ...SVM__C=0.1, SVM__gamma=0.001, SVM__kernel=linear; total time= 1.2min\n",
            "[CV] END ...SVM__C=0.1, SVM__gamma=0.001, SVM__kernel=linear; total time= 1.2min\n",
            "[CV] END ...SVM__C=0.1, SVM__gamma=0.001, SVM__kernel=linear; total time= 1.2min\n",
            "[CV] END ....SVM__C=0.1, SVM__gamma=0.01, SVM__kernel=linear; total time= 1.1min\n",
            "[CV] END ....SVM__C=0.1, SVM__gamma=0.01, SVM__kernel=linear; total time= 1.1min\n",
            "[CV] END ....SVM__C=0.1, SVM__gamma=0.01, SVM__kernel=linear; total time= 1.1min\n",
            "[CV] END ......SVM__C=0.1, SVM__gamma=0.001, SVM__kernel=rbf; total time= 4.4min\n",
            "[CV] END ......SVM__C=0.1, SVM__gamma=0.001, SVM__kernel=rbf; total time= 4.4min\n",
            "[CV] END ......SVM__C=0.1, SVM__gamma=0.001, SVM__kernel=rbf; total time= 4.4min\n",
            "[CV] END .....SVM__C=0.1, SVM__gamma=0.1, SVM__kernel=linear; total time= 1.0min\n",
            "[CV] END .....SVM__C=0.1, SVM__gamma=0.1, SVM__kernel=linear; total time=  59.9s\n",
            "[CV] END .......SVM__C=0.1, SVM__gamma=0.01, SVM__kernel=rbf; total time= 6.2min\n",
            "[CV] END .......SVM__C=0.1, SVM__gamma=0.01, SVM__kernel=rbf; total time= 6.2min\n",
            "[CV] END .....SVM__C=0.1, SVM__gamma=0.1, SVM__kernel=linear; total time= 1.1min\n",
            "[CV] END .......SVM__C=0.1, SVM__gamma=0.01, SVM__kernel=rbf; total time= 6.1min\n",
            "[CV] END .......SVM__C=0.1, SVM__gamma=1, SVM__kernel=linear; total time= 1.2min\n",
            "[CV] END .......SVM__C=0.1, SVM__gamma=1, SVM__kernel=linear; total time= 1.2min\n",
            "[CV] END ........SVM__C=0.1, SVM__gamma=0.1, SVM__kernel=rbf; total time= 6.2min\n",
            "[CV] END .......SVM__C=0.1, SVM__gamma=1, SVM__kernel=linear; total time= 1.2min\n",
            "[CV] END ........SVM__C=0.1, SVM__gamma=0.1, SVM__kernel=rbf; total time= 6.3min\n",
            "[CV] END .....SVM__C=1, SVM__gamma=0.001, SVM__kernel=linear; total time= 1.2min\n",
            "[CV] END ........SVM__C=0.1, SVM__gamma=0.1, SVM__kernel=rbf; total time= 6.6min\n",
            "[CV] END .....SVM__C=1, SVM__gamma=0.001, SVM__kernel=linear; total time=  58.5s\n",
            "[CV] END .....SVM__C=1, SVM__gamma=0.001, SVM__kernel=linear; total time=  57.5s\n",
            "[CV] END ..........SVM__C=0.1, SVM__gamma=1, SVM__kernel=rbf; total time= 6.5min\n",
            "[CV] END ........SVM__C=1, SVM__gamma=0.001, SVM__kernel=rbf; total time= 3.7min\n",
            "[CV] END ........SVM__C=1, SVM__gamma=0.001, SVM__kernel=rbf; total time= 3.7min\n",
            "[CV] END ........SVM__C=1, SVM__gamma=0.001, SVM__kernel=rbf; total time= 3.6min\n",
            "[CV] END ..........SVM__C=0.1, SVM__gamma=1, SVM__kernel=rbf; total time= 6.5min\n",
            "[CV] END ..........SVM__C=0.1, SVM__gamma=1, SVM__kernel=rbf; total time= 6.5min\n",
            "[CV] END ......SVM__C=1, SVM__gamma=0.01, SVM__kernel=linear; total time= 1.0min\n",
            "[CV] END ......SVM__C=1, SVM__gamma=0.01, SVM__kernel=linear; total time= 1.1min\n",
            "[CV] END ......SVM__C=1, SVM__gamma=0.01, SVM__kernel=linear; total time= 1.1min\n",
            "[CV] END .......SVM__C=1, SVM__gamma=0.1, SVM__kernel=linear; total time= 1.1min\n",
            "[CV] END .......SVM__C=1, SVM__gamma=0.1, SVM__kernel=linear; total time= 1.3min\n",
            "[CV] END .......SVM__C=1, SVM__gamma=0.1, SVM__kernel=linear; total time= 1.4min\n",
            "[CV] END .........SVM__C=1, SVM__gamma=0.01, SVM__kernel=rbf; total time= 6.3min\n",
            "[CV] END .........SVM__C=1, SVM__gamma=0.01, SVM__kernel=rbf; total time= 6.3min\n",
            "[CV] END .........SVM__C=1, SVM__gamma=0.01, SVM__kernel=rbf; total time= 6.3min\n",
            "[CV] END ..........SVM__C=1, SVM__gamma=0.1, SVM__kernel=rbf; total time= 6.4min\n",
            "[CV] END ..........SVM__C=1, SVM__gamma=0.1, SVM__kernel=rbf; total time= 6.4min\n",
            "[CV] END .........SVM__C=1, SVM__gamma=1, SVM__kernel=linear; total time= 1.0min\n",
            "[CV] END .........SVM__C=1, SVM__gamma=1, SVM__kernel=linear; total time= 1.0min\n",
            "[CV] END ..........SVM__C=1, SVM__gamma=0.1, SVM__kernel=rbf; total time= 6.3min\n",
            "[CV] END .........SVM__C=1, SVM__gamma=1, SVM__kernel=linear; total time= 1.1min\n",
            "[CV] END ....SVM__C=10, SVM__gamma=0.001, SVM__kernel=linear; total time= 1.2min\n",
            "[CV] END ............SVM__C=1, SVM__gamma=1, SVM__kernel=rbf; total time= 6.1min\n",
            "[CV] END ....SVM__C=10, SVM__gamma=0.001, SVM__kernel=linear; total time= 1.2min\n",
            "[CV] END ............SVM__C=1, SVM__gamma=1, SVM__kernel=rbf; total time= 6.1min\n",
            "[CV] END ....SVM__C=10, SVM__gamma=0.001, SVM__kernel=linear; total time= 1.2min\n",
            "[CV] END .....SVM__C=10, SVM__gamma=0.01, SVM__kernel=linear; total time= 1.2min\n",
            "[CV] END .......SVM__C=10, SVM__gamma=0.001, SVM__kernel=rbf; total time= 4.1min\n",
            "[CV] END .......SVM__C=10, SVM__gamma=0.001, SVM__kernel=rbf; total time= 4.1min\n",
            "[CV] END .......SVM__C=10, SVM__gamma=0.001, SVM__kernel=rbf; total time= 4.2min\n",
            "[CV] END .....SVM__C=10, SVM__gamma=0.01, SVM__kernel=linear; total time= 1.2min\n",
            "[CV] END .....SVM__C=10, SVM__gamma=0.01, SVM__kernel=linear; total time= 1.2min\n",
            "[CV] END ............SVM__C=1, SVM__gamma=1, SVM__kernel=rbf; total time= 6.5min\n",
            "[CV] END ......SVM__C=10, SVM__gamma=0.1, SVM__kernel=linear; total time= 1.2min\n",
            "[CV] END ......SVM__C=10, SVM__gamma=0.1, SVM__kernel=linear; total time= 1.1min\n",
            "[CV] END ......SVM__C=10, SVM__gamma=0.1, SVM__kernel=linear; total time= 1.0min\n",
            "[CV] END ........SVM__C=10, SVM__gamma=0.01, SVM__kernel=rbf; total time= 6.5min\n",
            "[CV] END ........SVM__C=10, SVM__gamma=0.01, SVM__kernel=rbf; total time= 6.4min\n",
            "[CV] END ........SVM__C=10, SVM__gamma=0.01, SVM__kernel=rbf; total time= 6.4min\n",
            "[CV] END ........SVM__C=10, SVM__gamma=1, SVM__kernel=linear; total time= 1.0min\n",
            "[CV] END ........SVM__C=10, SVM__gamma=1, SVM__kernel=linear; total time=  59.8s\n",
            "[CV] END .........SVM__C=10, SVM__gamma=0.1, SVM__kernel=rbf; total time= 6.1min\n",
            "[CV] END .........SVM__C=10, SVM__gamma=0.1, SVM__kernel=rbf; total time= 6.1min\n",
            "[CV] END ........SVM__C=10, SVM__gamma=1, SVM__kernel=linear; total time=  54.3s\n",
            "[CV] END .........SVM__C=10, SVM__gamma=0.1, SVM__kernel=rbf; total time= 5.7min\n",
            "[CV] END ...........SVM__C=10, SVM__gamma=1, SVM__kernel=rbf; total time= 4.6min\n",
            "[CV] END ...........SVM__C=10, SVM__gamma=1, SVM__kernel=rbf; total time= 4.1min\n",
            "[CV] END ...........SVM__C=10, SVM__gamma=1, SVM__kernel=rbf; total time= 3.4min\n",
            "Melhor acurácia: 0.8134\n",
            "Melhores parâmetros: {'SVM__C': 10, 'SVM__gamma': 0.001, 'SVM__kernel': 'rbf'}\n"
          ]
        }
      ],
      "source": [
        "# Otimização dos hiperparâmetros para SVM padronizado usando GridSearchCV\n",
        "\n",
        "# Pipeline com padronização e SVM\n",
        "pipeline_svm = Pipeline([\n",
        "  ('StandardScaler', standard_scaler[1]),\n",
        "  ('SVM', SVC())\n",
        "])\n",
        "\n",
        "# Espaço de busca dos hiperparâmetros\n",
        "param_grid = {\n",
        "  'SVM__C': [0.1, 1, 10],\n",
        "  'SVM__gamma': [0.001, 0.01, 0.1, 1],\n",
        "  'SVM__kernel': ['rbf', 'linear']\n",
        "}\n",
        "\n",
        "# GridSearchCV\n",
        "grid = GridSearchCV(estimator=pipeline_svm, param_grid=param_grid, cv=kfold, scoring=scoring, n_jobs=-1, verbose=2)\n",
        "grid_result = grid.fit(X_train, y_train)\n",
        "\n",
        "# Exibe os melhores parâmetros e a melhor acurácia\n",
        "print(f\"Melhor acurácia: {grid_result.best_score_:.4f}\")\n",
        "print(\"Melhores parâmetros:\", grid_result.best_params_)"
      ]
    },
    {
      "cell_type": "markdown",
      "id": "FCU4TM8OK0L_",
      "metadata": {
        "id": "FCU4TM8OK0L_"
      },
      "source": [
        "### Etapa 7: Finalização do Modelo"
      ]
    },
    {
      "cell_type": "code",
      "execution_count": 8,
      "id": "2accdf86",
      "metadata": {
        "colab": {
          "background_save": true
        },
        "id": "2accdf86",
        "outputId": "6fdd7ccc-6c23-46cf-bdcd-0f5e7eaaecd4"
      },
      "outputs": [
        {
          "name": "stdout",
          "output_type": "stream",
          "text": [
            "Acurácia no conjunto de teste: 0.8293\n"
          ]
        }
      ],
      "source": [
        "# Treinando o modelo SVM com os melhores hiperparâmetros encontrados pelo GridSearchCV\n",
        "best_svm = grid_result.best_estimator_\n",
        "best_svm.fit(X_train, y_train)\n",
        "\n",
        "# Avaliando no conjunto de teste\n",
        "y_pred = best_svm.predict(X_test)\n",
        "test_accuracy = accuracy_score(y_test, y_pred)\n",
        "print(f\"Acurácia no conjunto de teste: {test_accuracy:.4f}\")"
      ]
    },
    {
      "cell_type": "code",
      "execution_count": 9,
      "id": "1b6cab7d",
      "metadata": {
        "colab": {
          "background_save": true
        },
        "id": "1b6cab7d",
        "outputId": "91e64f1e-01e6-4aeb-ea5e-c8e8eb8c8954"
      },
      "outputs": [
        {
          "name": "stdout",
          "output_type": "stream",
          "text": [
            "Modelo final treinado com todo o dataset de treino disponível.\n"
          ]
        }
      ],
      "source": [
        "# Treinando o modelo SVM otimizado com todo o dataset de treino disponível (X, y)\n",
        "final_model = grid_result.best_estimator_\n",
        "final_model.fit(X_train, y_train)\n",
        "print(\"Modelo final treinado com todo o dataset de treino disponível.\")"
      ]
    },
    {
      "cell_type": "markdown",
      "id": "0585uH_ALISu",
      "metadata": {
        "id": "0585uH_ALISu"
      },
      "source": [
        "### Etapa 8: Simulando a aplicação do modelo em dados não vistos"
      ]
    },
    {
      "cell_type": "code",
      "execution_count": null,
      "id": "0734269b",
      "metadata": {
        "colab": {
          "base_uri": "https://localhost:8080/",
          "height": 1000
        },
        "id": "0734269b",
        "outputId": "a466eef5-2628-4f7f-9e04-a1df318735a6"
      },
      "outputs": [
        {
          "name": "stdout",
          "output_type": "stream",
          "text": [
            "Imagem 1: T-shirt/top\n",
            "Imagem 2: Bag\n",
            "Imagem 3: Sandal\n"
          ]
        }
      ],
      "source": [
        "# Teste do modelo com o dataset de teste\n",
        "\n",
        "# Carrega imagens de teste\n",
        "test_images = [\n",
        "    './imgs/original/dress.jpg',\n",
        "    './imgs/original/pullover.jpg',\n",
        "    './imgs/original/sandal.jpg',\n",
        "]\n",
        "\n",
        "# Função para converter imagens de teste em arrays numpy\n",
        "def load_test_images(image_paths):\n",
        "    images = []\n",
        "    for path in image_paths:\n",
        "        img = Image.open(path).convert('L')  # Converte para escala de cinza\n",
        "        img = img.resize((64, 64))  # Redimensiona para 64x64 pixels\n",
        "        images.append(np.array(img).flatten())  # Achata para vetor 1D\n",
        "    return np.array(images)\n",
        "\n",
        "# Carrega as imagens de teste\n",
        "test_images_array = load_test_images(test_images)\n",
        "\n",
        "predictions = final_model.predict(test_images_array)\n",
        "\n",
        "descriptions = {\n",
        "    0: 'T-shirt/top',\n",
        "    1: 'Trouser',\n",
        "    2: 'Pullover',\n",
        "    3: 'Dress',\n",
        "    4: 'Coat',\n",
        "    5: 'Sandal',\n",
        "    6: 'Shirt',\n",
        "    7: 'Sneaker',\n",
        "    8: 'Bag',\n",
        "    9: 'Ankle boot'\n",
        "}\n",
        "\n",
        "# Mapeia as previsões para as descrições\n",
        "predictions = [descriptions[pred] for pred in predictions]\n",
        "\n",
        "# Exibe as previsões\n",
        "for i in range(len(predictions)):\n",
        "    print(f\"Imagem {i+1}: {predictions[i]}\")"
      ]
    },
    {
      "cell_type": "markdown",
      "id": "czMttCOULjXH",
      "metadata": {
        "id": "czMttCOULjXH"
      },
      "source": [
        "### Etapa 9: Exportando o modelo para o formato PKL"
      ]
    },
    {
      "cell_type": "code",
      "execution_count": null,
      "id": "pSTHoNEgLn1G",
      "metadata": {
        "id": "pSTHoNEgLn1G"
      },
      "outputs": [],
      "source": [
        "# Nome do arquivo para salvar o modelo\n",
        "filename = 'fashion_image_classification_model.pkl'\n",
        "\n",
        "# Salvar o modelo no arquivo\n",
        "# pickle.dump(final_model, open(filename, 'wb'))\n",
        "\n",
        "print(f\"Modelo exportado para '{filename}'\")"
      ]
    }
  ],
  "metadata": {
    "colab": {
      "collapsed_sections": [
        "ZdbekGhUJ_-l",
        "lme_dcZyKG_P",
        "iSOvK1-rKasF",
        "fESgfggDKgGR",
        "FCU4TM8OK0L_"
      ],
      "provenance": []
    },
    "kernelspec": {
      "display_name": "venv (3.10.5)",
      "language": "python",
      "name": "python3"
    },
    "language_info": {
      "codemirror_mode": {
        "name": "ipython",
        "version": 3
      },
      "file_extension": ".py",
      "mimetype": "text/x-python",
      "name": "python",
      "nbconvert_exporter": "python",
      "pygments_lexer": "ipython3",
      "version": "3.10.5"
    }
  },
  "nbformat": 4,
  "nbformat_minor": 5
}
